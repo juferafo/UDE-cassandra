{
 "cells": [
  {
   "cell_type": "markdown",
   "metadata": {
    "editable": true
   },
   "source": [
    "# Part I. ETL Pipeline for Pre-Processing the Files"
   ]
  },
  {
   "cell_type": "markdown",
   "metadata": {
    "editable": true
   },
   "source": [
    "## PLEASE RUN THE FOLLOWING CODE FOR PRE-PROCESSING THE FILES"
   ]
  },
  {
   "cell_type": "markdown",
   "metadata": {
    "editable": true
   },
   "source": [
    "#### Import Python packages "
   ]
  },
  {
   "cell_type": "code",
   "execution_count": 8,
   "metadata": {
    "editable": true
   },
   "outputs": [],
   "source": [
    "# Import Python packages \n",
    "import pandas as pd\n",
    "import cassandra\n",
    "import re\n",
    "import os\n",
    "import glob\n",
    "import numpy as np\n",
    "import json\n",
    "import csv"
   ]
  },
  {
   "cell_type": "markdown",
   "metadata": {
    "editable": true
   },
   "source": [
    "#### Creating list of filepaths to process original event csv data files"
   ]
  },
  {
   "cell_type": "code",
   "execution_count": 3,
   "metadata": {
    "editable": true
   },
   "outputs": [
    {
     "name": "stdout",
     "output_type": "stream",
     "text": [
      "/home/workspace\n"
     ]
    }
   ],
   "source": [
    "# checking your current working directory\n",
    "print(os.getcwd())\n",
    "\n",
    "# Get your current folder and subfolder event data\n",
    "filepath = os.getcwd() + '/event_data'\n",
    "\n",
    "# Create a for loop to create a list of files and collect each filepath\n",
    "for root, dirs, files in os.walk(filepath):\n",
    "    \n",
    "# join the file path and roots with the subdirectories using glob\n",
    "    file_path_list = glob.glob(os.path.join(root,'*'))\n",
    "    #print(file_path_list)"
   ]
  },
  {
   "cell_type": "markdown",
   "metadata": {
    "editable": true
   },
   "source": [
    "#### Processing the files to create the data file csv that will be used for Apache Casssandra tables"
   ]
  },
  {
   "cell_type": "code",
   "execution_count": 6,
   "metadata": {
    "editable": true
   },
   "outputs": [
    {
     "name": "stdout",
     "output_type": "stream",
     "text": [
      "298\n"
     ]
    }
   ],
   "source": [
    "# initiating an empty list of rows that will be generated from each file\n",
    "full_data_rows_list = [] \n",
    "    \n",
    "# for every filepath in the file path list \n",
    "for f in file_path_list:\n",
    "\n",
    "# reading csv file \n",
    "    with open(f, 'r', encoding = 'utf8', newline='') as csvfile: \n",
    "        # creating a csv reader object \n",
    "        csvreader = csv.reader(csvfile) \n",
    "        next(csvreader)\n",
    "        \n",
    " # extracting each data row one by one and append it        \n",
    "        for line in csvreader:\n",
    "            #print(line)\n",
    "            full_data_rows_list.append(line) \n",
    "            \n",
    "# uncomment the code below if you would like to get total number of rows \n",
    "print(len(full_data_rows_list))\n",
    "# uncomment the code below if you would like to check to see what the list of event data rows will look like\n",
    "#print(full_data_rows_list)\n",
    "\n",
    "# creating a smaller event data csv file called event_datafile_full csv that will be used to insert data into the \\\n",
    "# Apache Cassandra tables\n",
    "csv.register_dialect('myDialect', quoting=csv.QUOTE_ALL, skipinitialspace=True)\n",
    "\n",
    "with open('event_datafile_new.csv', 'w', encoding = 'utf8', newline='') as f:\n",
    "    writer = csv.writer(f, dialect='myDialect')\n",
    "    writer.writerow(['artist','firstName','gender','itemInSession','lastName','length',\\\n",
    "                'level','location','sessionId','song','userId'])\n",
    "    for row in full_data_rows_list:\n",
    "        if (row[0] == ''):\n",
    "            # The rows without artist information (empty strings) are skipped\n",
    "            continue\n",
    "        writer.writerow((row[0], row[2], row[3], row[4], row[5], row[6], row[7], row[8], row[12], row[13], row[16]))\n"
   ]
  },
  {
   "cell_type": "code",
   "execution_count": 7,
   "metadata": {
    "editable": true
   },
   "outputs": [
    {
     "name": "stdout",
     "output_type": "stream",
     "text": [
      "264\n"
     ]
    }
   ],
   "source": [
    "# check the number of rows in your csv file\n",
    "with open('event_datafile_new.csv', 'r', encoding = 'utf8') as f:\n",
    "    print(sum(1 for line in f))"
   ]
  },
  {
   "cell_type": "markdown",
   "metadata": {
    "editable": true
   },
   "source": [
    "# Part II. Complete the Apache Cassandra coding portion of your project. \n",
    "\n",
    "## Now you are ready to work with the CSV file titled <font color=red>event_datafile_new.csv</font>, located within the Workspace directory.  The event_datafile_new.csv contains the following columns: \n",
    "- artist \n",
    "- firstName of user\n",
    "- gender of user\n",
    "- item number in session\n",
    "- last name of user\n",
    "- length of the song\n",
    "- level (paid or free song)\n",
    "- location of the user\n",
    "- sessionId\n",
    "- song title\n",
    "- userId\n",
    "\n",
    "The image below is a screenshot of what the denormalized data should appear like in the <font color=red>**event_datafile_new.csv**</font> after the code above is run:<br>\n",
    "\n",
    "<img src=\"images/image_event_datafile_new.jpg\">"
   ]
  },
  {
   "cell_type": "markdown",
   "metadata": {
    "editable": true
   },
   "source": [
    "## Begin writing your Apache Cassandra code in the cells below"
   ]
  },
  {
   "cell_type": "markdown",
   "metadata": {
    "editable": true
   },
   "source": [
    "#### Creating a Cluster"
   ]
  },
  {
   "cell_type": "code",
   "execution_count": 1,
   "metadata": {
    "editable": true
   },
   "outputs": [],
   "source": [
    "# This should make a connection to a Cassandra instance your local machine \n",
    "# (127.0.0.1)\n",
    "\n",
    "from cassandra.cluster import Cluster\n",
    "cluster = Cluster()\n",
    "\n",
    "# To establish connection and begin executing queries, need a session\n",
    "session = cluster.connect()"
   ]
  },
  {
   "cell_type": "markdown",
   "metadata": {
    "editable": true
   },
   "source": [
    "#### Create Keyspace"
   ]
  },
  {
   "cell_type": "code",
   "execution_count": 2,
   "metadata": {
    "editable": true
   },
   "outputs": [],
   "source": [
    "# This cell creates a keyspace\n",
    "\n",
    "try:\n",
    "    query = \"CREATE  KEYSPACE IF NOT EXISTS sparkify \\\n",
    "             WITH REPLICATION = {'class' : 'SimpleStrategy',\\\n",
    "                                 'replication_factor' : 1}\"\n",
    "    session.execute(query)\n",
    "\n",
    "except Exception as e:\n",
    "    print(e)"
   ]
  },
  {
   "cell_type": "markdown",
   "metadata": {
    "editable": true
   },
   "source": [
    "#### Set Keyspace"
   ]
  },
  {
   "cell_type": "code",
   "execution_count": 3,
   "metadata": {
    "editable": true
   },
   "outputs": [],
   "source": [
    "# This cell sets the keyspace to the one created above\n",
    "\n",
    "try:\n",
    "    session.set_keyspace('sparkify')\n",
    "except Exception as e:\n",
    "    print(e)"
   ]
  },
  {
   "cell_type": "markdown",
   "metadata": {
    "editable": true
   },
   "source": [
    "### Now we need to create tables to run the following queries. Remember, with Apache Cassandra you model the database tables on the queries you want to run. As a best practice it is recomended to run assign one table per query since JOIN and GROUP BY statements are not supported in Apache Cassandra."
   ]
  },
  {
   "cell_type": "markdown",
   "metadata": {
    "editable": true
   },
   "source": [
    "## Create queries to ask the following three questions of the data"
   ]
  },
  {
   "cell_type": "markdown",
   "metadata": {
    "editable": true
   },
   "source": [
    "### 1. Give me the artist, song title and song's length in the music app history that was heard during  sessionId = 338, and itemInSession = 4\n",
    "\n",
    "CQL Query:\n",
    "```\n",
    "SELECT artist, song, length FROM <table_name> WHERE sessionId = 228 and itemInSession = 4\n",
    "```\n",
    "\n",
    "### 2. Give me only the following: name of artist, song (sorted by itemInSession) and user (first and last name) for userid = 10, sessionid = 182\n",
    "\n",
    "CQL Query: song must be sorted by itemInSession\n",
    "```\n",
    "SELECT artist, song, firstName, lastName FROM <table_name> WHERE userid = 10, sessionid = 182\n",
    "```\n",
    "\n",
    "### 3. Give me every user name (first and last) in my music app history who listened to the song 'All Hands Against His Own'\n",
    "\n",
    "CQL Query:\n",
    "```\n",
    "SELECT firstName, lastName FROM <table_name> WHERE song 'All Hands Against His Own'\n",
    "```"
   ]
  },
  {
   "cell_type": "code",
   "execution_count": 19,
   "metadata": {
    "editable": true
   },
   "outputs": [],
   "source": [
    "def create_table(table_name, fields, session, drop_first = True):\n",
    "    \"\"\"\n",
    "    This method creates a table with the specified fields\n",
    "    For this purpose, the session parameter must be provided\n",
    "    \n",
    "    Args:\n",
    "        table_name (str): name of the table to be created\n",
    "        fields (str): column fields with data types\n",
    "        session (cassandra.cluster.Session): cluster connection\n",
    "        drop_first (bool): if this option is activated, the table will be dropped before creation.\n",
    "        Defaults to True\n",
    "        \n",
    "     Example:   \n",
    "        >>> create_table(\"table\", \"(col1 int, col2 text, PRIMARY KEY(col1))\", session)\n",
    "    \"\"\"\n",
    "    \n",
    "    if drop_first:\n",
    "        session.execute(\"DROP TABLE IF EXISTS {}\".format(table_name))\n",
    "        print(\"Table {} was dropped\".format(table_name))\n",
    "\n",
    "    session.execute(\"CREATE TABLE IF NOT EXISTS {0} {1}\".format(table_name, fields))\n",
    "    print(\"Table {} was created\".format(table_name))\n",
    "\n",
    "\n",
    "def generate_str(fields):\n",
    "    \"\"\"\n",
    "    This method is inteded to be used with the columns fields of Apache Cassandra tables.\n",
    "    When a list of fields is provided, it returns a string with the format (col1, col2, etc...)\n",
    "    that can be used in CQL INSERT statements\n",
    "    \n",
    "    Args:\n",
    "        fields (list): list with the fields to be concatenated\n",
    "        fields (str): column fields with data types\n",
    "        session (cassandra.cluster.Session): cluster connection\n",
    "        drop_first (bool): if this option is activated, the table will be dropped before creation\n",
    "        Defaults to True\n",
    "    \n",
    "    Returns:\n",
    "        str: a concatenated string with the column fields with the format (col1, col2, etc...)\n",
    "        \n",
    "     Example:   \n",
    "        >>> generate_fields([\"col1\", \"col2\", \"col3\"])\n",
    "        (\"col1\", \"col2\", \"col3\")\n",
    "    \"\"\"\n",
    "    \n",
    "    return \"(\"+\", \".join(fields)+\")\"\n",
    "\n",
    "\n",
    "def insert_query(fields, table_name):\n",
    "    \"\"\"\n",
    "    This method returns the a string with the CQL INSERT format to be used with the cassandra python driver.\n",
    "    \n",
    "    Args:\n",
    "        fields (list): list with the name of the fields of the table \n",
    "        table_name (str): name of the table where the data will be inserted\n",
    "    \n",
    "    Returns:\n",
    "        str: query with the format \"INSERT INTO sparkify.table1 (col1, col2, ...) VALUES (%s, %s, ...) \"\n",
    "    \n",
    "    Example:   \n",
    "        >>> insert_query([\"col1\", \"col2\"], \"table\")\n",
    "        \"INSERT INTO sparkify.table (col1, col2) VALUES (%s, %s)\"\n",
    "    \"\"\"\n",
    "    \n",
    "    fields_str = generate_fields(fields)\n",
    "    values_str = \", \".join(map(str, [\"%s\"]*len(fields)))\n",
    "    \n",
    "    query = \"INSERT INTO sparkify.table1 {} \".format(fields_str)\n",
    "    query = query + \"VALUES (\" + values_str + \")\" \n",
    "\n",
    "    return query"
   ]
  },
  {
   "cell_type": "code",
   "execution_count": 5,
   "metadata": {
    "editable": true
   },
   "outputs": [
    {
     "data": {
      "text/plain": [
       "'(artist, firstName, gender, itemInSession, lastName, length, level, location, sessionId, song, userId)'"
      ]
     },
     "execution_count": 5,
     "metadata": {},
     "output_type": "execute_result"
    }
   ],
   "source": [
    "fields = ['artist','firstName','gender','itemInSession','lastName','length',\\\n",
    "          'level','location','sessionId','song','userId']\n",
    "\n",
    "generate_fields(fields)"
   ]
  },
  {
   "cell_type": "code",
   "execution_count": 60,
   "metadata": {
    "editable": true
   },
   "outputs": [
    {
     "name": "stdout",
     "output_type": "stream",
     "text": [
      "Table table_events was dropped\n",
      "Table table_events was created\n",
      "Inserting ./event_datafile_new.csv data into table table_events\n"
     ]
    }
   ],
   "source": [
    "# This cell will create a table with all the fields and all the data in './event_datafile_new.csv' into it\n",
    "\n",
    "table = \"table_events\"\n",
    "fields_events = \"(artist text, \\\n",
    "            firstName text, \\\n",
    "            gender text, \\\n",
    "            itemInSession int, \\\n",
    "            lastName text, \\\n",
    "            length double, \\\n",
    "            level text, \\\n",
    "            location text, \\\n",
    "            sessionId int, \\\n",
    "            song text, \\\n",
    "            userId int, \\\n",
    "            PRIMARY KEY (sessionId))\"\n",
    "\n",
    "create_table(table_name = table, fields = fields_events, session = session)\n",
    "\n",
    "file = 'event_datafile_new.csv'\n",
    "fields = ['artist','firstName','gender','itemInSession','lastName','length',\\\n",
    "          'level','location','sessionId','song','userId']\n",
    "\n",
    "with open(file, encoding = 'utf8') as f:\n",
    "    print(\"Inserting ./\"+file+\" data into table \"+table)\n",
    "    csvreader = csv.reader(f)\n",
    "    next(csvreader) # to skip header\n",
    "    \n",
    "    for line in csvreader:\n",
    "        query = insert_query(fields, table)\n",
    "        # Since we are reading from CSV files we need to transform the type of the fields to\n",
    "        # match the schema of the table. There is the option to implement this automatically\n",
    "        # with the QUOTE_NONNUMERIC option [1] but this way we have more control over the data\n",
    "        #\n",
    "        # [1] https://stackoverflow.com/questions/55290883/invalid-string-constant-error-in-apache-cassandra-using-python\n",
    "        values = [line[0], line[1], line[2], int(line[3]), line[4], float(line[5]),\\\n",
    "          line[6], line[7], int(line[8]), line[9], int(line[10])]\n",
    "        \n",
    "        session.execute(query, values)"
   ]
  },
  {
   "cell_type": "code",
   "execution_count": 64,
   "metadata": {
    "collapsed": true,
    "editable": true,
    "jupyter": {
     "outputs_hidden": true
    }
   },
   "outputs": [
    {
     "name": "stdout",
     "output_type": "stream",
     "text": [
      "Row(count=263)\n",
      "Row(sessionid=363, iteminsession=0, artist='Alphaville', length=285.43955, song='Big In Japan (Original)')\n",
      "Row(sessionid=331, iteminsession=1, artist='Amy Adams', length=128.62649, song='Happy Working Song')\n",
      "Row(sessionid=331, iteminsession=2, artist='Amy Winehouse', length=141.24363, song='Some Unholy War')\n",
      "Row(sessionid=340, iteminsession=0, artist='Barry Tuckwell/Academy of St Martin-in-the-Fields/Sir Neville Marriner', length=277.15873, song='Horn Concerto No. 4 in E flat K495: II. Romance (Andante cantabile)')\n",
      "Row(sessionid=423, iteminsession=0, artist='Tub Ring', length=233.69098, song='Invalid')\n",
      "Row(sessionid=420, iteminsession=0, artist='Aerosmith', length=301.76608, song='Fly Away From Here')\n",
      "Row(sessionid=398, iteminsession=0, artist='Postal Service', length=300.53832, song='We Will Become Silhouettes (Album)')\n",
      "Row(sessionid=398, iteminsession=1, artist='Stevie Ray Vaughan And Double Trouble', length=258.82077, song='Life Without You')\n",
      "Row(sessionid=416, iteminsession=0, artist='Alliance Ethnik', length=252.21179, song='ReprÃ\\x83Â©sente')\n",
      "Row(sessionid=416, iteminsession=1, artist='Pavement', length=99.16036, song='Mercy:The Laundromat')\n",
      "Row(sessionid=416, iteminsession=2, artist='4 Skins', length=165.51138, song='Clockwork Skinhead')\n",
      "Row(sessionid=416, iteminsession=3, artist='Thrice', length=249.46893, song='Wood And Wire')\n",
      "Row(sessionid=416, iteminsession=4, artist='Lasgo', length=192.80934, song='Over You')\n",
      "Row(sessionid=416, iteminsession=5, artist='Eneida Marta', length=223.55546, song='Mindjer dÃ\\x83Â´ce mel')\n",
      "Row(sessionid=416, iteminsession=6, artist='Gare du Nord', length=221.98812, song='Marvin & Miles')\n",
      "Row(sessionid=416, iteminsession=7, artist='Florence + The Machine', length=219.66322, song='Dog Days Are Over (Radio Edit)')\n",
      "Row(sessionid=416, iteminsession=8, artist='The White Stripes', length=232.61995, song='Seven Nation Army')\n",
      "Row(sessionid=416, iteminsession=9, artist='Kings Of Leon', length=201.79546, song='Revelry')\n",
      "Row(sessionid=416, iteminsession=10, artist='Mad Caddies', length=181.81179, song='Backyard')\n",
      "Row(sessionid=416, iteminsession=11, artist='Parachute', length=230.5824, song='The Mess I Made')\n",
      "Row(sessionid=416, iteminsession=12, artist='Booka Shade', length=336.45669, song='Teenage Spaceman')\n",
      "Row(sessionid=416, iteminsession=13, artist='Black Box', length=247.03955, song='Everybody Everybody')\n",
      "Row(sessionid=416, iteminsession=14, artist='Barry Tuckwell/Academy of St Martin-in-the-Fields/Sir Neville Marriner', length=277.15873, song='Horn Concerto No. 4 in E flat K495: II. Romance (Andante cantabile)')\n",
      "Row(sessionid=416, iteminsession=15, artist='Queens Of The Stone Age', length=254.77179, song='No One Knows')\n",
      "Row(sessionid=416, iteminsession=16, artist='Steve Miller Band', length=242.46812, song='Living In The U.S.A. (1991 Digital Remaster)')\n",
      "Row(sessionid=416, iteminsession=17, artist='Toby Keith', length=238.44526, song='Whiskey Girl')\n",
      "Row(sessionid=416, iteminsession=18, artist='Los Fabulosos Cadillacs', length=353.93261, song='Muy_ Muy Temprano')\n",
      "Row(sessionid=416, iteminsession=19, artist='Sheena Easton', length=239.62077, song='Strut (1993 Digital Remaster)')\n",
      "Row(sessionid=416, iteminsession=20, artist='The Bevis Frond', length=265.32526, song='Into The Cryptic Mist')\n",
      "Row(sessionid=416, iteminsession=21, artist='The Black Keys', length=269.29587, song='Ten Cent Pistol')\n",
      "Row(sessionid=416, iteminsession=22, artist='Blind Melon', length=217.15546, song='No Rain')\n",
      "Row(sessionid=416, iteminsession=23, artist='311', length=191.79057, song='Solar Flare')\n",
      "Row(sessionid=416, iteminsession=24, artist='Dakota Oak', length=45.63546, song=\"Baker's Blue Jay Yarn\")\n",
      "Row(sessionid=416, iteminsession=25, artist='Bow Wow feat. Chris Brown and JohntÃ\\x83Â¡ Austin', length=268.06812, song='Shortie Like Mine')\n",
      "Row(sessionid=416, iteminsession=26, artist='Rammstein', length=228.46649, song='Adios')\n",
      "Row(sessionid=416, iteminsession=27, artist='Jose Cid', length=202.23955, song='Madrugada Na Praia Deserta')\n",
      "Row(sessionid=416, iteminsession=28, artist='Ron Carter', length=497.13587, song=\"I CAN'T GET STARTED\")\n",
      "Row(sessionid=416, iteminsession=29, artist='Muse', length=255.08526, song='Do We Need This?')\n",
      "Row(sessionid=416, iteminsession=30, artist='The Black Keys', length=191.76444, song='Howlin\\x19 For You')\n",
      "Row(sessionid=416, iteminsession=31, artist='Jonny L', length=401.52771, song='Microdaze')\n",
      "Row(sessionid=416, iteminsession=32, artist='Dangerdoom', length=146.85995, song='Crosshairs')\n",
      "Row(sessionid=416, iteminsession=33, artist='Jack Johnson', length=212.68853, song='Breakdown')\n",
      "Row(sessionid=416, iteminsession=34, artist='Foo Fighters', length=271.38567, song='The Pretender')\n",
      "Row(sessionid=416, iteminsession=35, artist='Sleater-kinney', length=264.4371, song='Jumpers (Album)')\n",
      "Row(sessionid=416, iteminsession=36, artist='Interpol', length=276.63628, song='Pace Is The Trick')\n",
      "Row(sessionid=416, iteminsession=37, artist='Leonard Cohen', length=365.94893, song='Dance Me To The End Of Love')\n",
      "Row(sessionid=416, iteminsession=38, artist='Trapt', length=285.98812, song='Headstrong (Album Version)')\n",
      "Row(sessionid=416, iteminsession=39, artist='Pearl Jam', length=352.88771, song='Not For You')\n",
      "Row(sessionid=416, iteminsession=40, artist='Bruce Springsteen', length=195.7873, song='Streets Of Philadelphia')\n",
      "Row(sessionid=416, iteminsession=42, artist='Curtis Stigers', length=259.49995, song='Columbus Avenue')\n",
      "Row(sessionid=416, iteminsession=43, artist='Jack Johnson', length=236.93016, song='Bubble Toes')\n",
      "Row(sessionid=416, iteminsession=44, artist='Sara Bareilles', length=253.02159, song='Love On The Rocks')\n",
      "Row(sessionid=416, iteminsession=46, artist='Chasen', length=166.16444, song='Crazy Beautiful')\n",
      "Row(sessionid=416, iteminsession=47, artist='Jonas Steur', length=481.38404, song='Sonrisa')\n",
      "Row(sessionid=416, iteminsession=48, artist='Alice In Chains', length=282.30485, song='Your Decision')\n",
      "Row(sessionid=416, iteminsession=49, artist='Eminem', length=212.00934, song=\"I'm Shady\")\n",
      "Row(sessionid=360, iteminsession=0, artist='U.S. Bombs', length=214.85669, song='U.S. Bombs')\n",
      "Row(sessionid=360, iteminsession=1, artist='Usher', length=224.10404, song=\"Hey Daddy (Daddy's Home)\")\n",
      "Row(sessionid=360, iteminsession=2, artist='ManÃ\\x83Â¡', length=262.81751, song='Mariposa traicionera')\n",
      "Row(sessionid=360, iteminsession=3, artist='Bill Withers', length=383.73832, song='Make Love To Your Mind')\n",
      "Row(sessionid=360, iteminsession=4, artist='M83', length=367.5424, song='Gone')\n",
      "Row(sessionid=139, iteminsession=1, artist=\"Des'ree\", length=246.30812, song='You Gotta Be')\n",
      "Row(sessionid=139, iteminsession=3, artist='Mr Oizo', length=144.03873, song='Flat 55')\n",
      "Row(sessionid=139, iteminsession=4, artist='Tamba Trio', length=177.18812, song='Quem Quiser Encontrar O Amor')\n",
      "Row(sessionid=139, iteminsession=5, artist='The Mars Volta', length=380.42077, song='Eriatarka')\n",
      "Row(sessionid=139, iteminsession=6, artist='Infected Mushroom', length=440.2673, song='Becoming Insane')\n",
      "Row(sessionid=139, iteminsession=7, artist='Blue October / Imogen Heap', length=241.3971, song='Congratulations')\n",
      "Row(sessionid=139, iteminsession=8, artist='Girl Talk', length=160.15628, song='Once again')\n",
      "Row(sessionid=169, iteminsession=1, artist='Fall Out Boy', length=200.72444, song='Nobody Puts Baby In The Corner')\n",
      "Row(sessionid=169, iteminsession=2, artist='M.I.A.', length=233.7171, song='Mango Pickle Down River (With The Wilcannia Mob)')\n",
      "Row(sessionid=311, iteminsession=0, artist='Shakira', length=571.16689, song='Estoy AquÃ\\x83Â\\xad')\n",
      "Row(sessionid=397, iteminsession=0, artist='Mariah Carey', length=242.18077, song='Obsessed')\n",
      "Row(sessionid=397, iteminsession=1, artist='Postal Service', length=307.53914, song='Natural Anthem (Album)')\n",
      "Row(sessionid=397, iteminsession=2, artist='Okkervil River', length=278.54322, song=\"Unless It's Kicks\")\n",
      "Row(sessionid=368, iteminsession=1, artist='Escape The Fate', length=283.34975, song='My Apocalypse')\n",
      "Row(sessionid=368, iteminsession=5, artist='Modern Lovers', length=180.27057, song='Modern world')\n",
      "Row(sessionid=368, iteminsession=6, artist='Cass Phang', length=249.05098, song='Ye Feng Ling')\n",
      "Row(sessionid=368, iteminsession=7, artist='Adina Howard', length=210.33751, song='Buttnaked')\n",
      "Row(sessionid=368, iteminsession=8, artist='Mondo Marcio', length=218.06975, song='Il Solo Rimasto')\n",
      "Row(sessionid=368, iteminsession=9, artist='Lil Wayne / Eminem', length=229.58975, song='Drop The World')\n",
      "Row(sessionid=368, iteminsession=10, artist='4hero feat. FACE', length=304.71791, song='Stoke Up The Fire')\n",
      "Row(sessionid=368, iteminsession=11, artist='Amon Amarth', length=257.27955, song='Under The Northern Star')\n",
      "Row(sessionid=368, iteminsession=12, artist='The Serendipity Singers', length=163.21261, song=\"Don't Let The Rain Come Down (Crooked Little Man)\")\n",
      "Row(sessionid=368, iteminsession=13, artist='Skillet', length=210.02404, song='Falling Inside The Black (Album Version)')\n",
      "Row(sessionid=368, iteminsession=14, artist='Kingston Trio', length=193.07057, song='Greenback Dollar')\n",
      "Row(sessionid=368, iteminsession=15, artist='Jack Johnson', length=141.87057, song='Times Like These')\n",
      "Row(sessionid=368, iteminsession=16, artist='Great White', length=357.14567, song='House Of Broken Love')\n",
      "Row(sessionid=368, iteminsession=17, artist='Haloo Helsinki!', length=223.42485, song='Kaaos ei karkaa')\n",
      "Row(sessionid=368, iteminsession=18, artist='Angus & Julia Stone', length=265.29914, song='Hold On')\n",
      "Row(sessionid=368, iteminsession=19, artist='The Avett Brothers', length=233.84771, song='Shame')\n",
      "Row(sessionid=368, iteminsession=20, artist='A Perfect Circle', length=291.52608, song='Vanishing')\n",
      "Row(sessionid=434, iteminsession=1, artist='Aqua', length=217.57342, song='My Mamma Said')\n",
      "Row(sessionid=434, iteminsession=2, artist='Pixies', length=229.3024, song='Where Is My Mind?')\n",
      "Row(sessionid=434, iteminsession=3, artist='LCD Soundsystem', length=221.64853, song='Drunk Girls')\n",
      "Row(sessionid=409, iteminsession=0, artist=\"Kanye West / Consequence / Cam'Ron\", length=333.34812, song='Gone')\n",
      "Row(sessionid=409, iteminsession=1, artist='David Banner', length=232.75057, song='Play')\n",
      "Row(sessionid=409, iteminsession=2, artist='Cipher', length=311.2224, song='Protoculture (Sankofa)')\n",
      "Row(sessionid=409, iteminsession=3, artist='Daft Punk', length=416.522, song='Emotion')\n",
      "Row(sessionid=409, iteminsession=4, artist='The Police', length=289.2273, song='Message In A Bottle')\n",
      "Row(sessionid=409, iteminsession=5, artist='JayMay', length=590.91546, song=\"You'd Rather Run\")\n",
      "Row(sessionid=409, iteminsession=6, artist='Shinedown', length=220.39465, song='Second Chance (Album Version)')\n",
      "Row(sessionid=409, iteminsession=7, artist='T.I. & DJ Drama', length=245.9424, song='Ride Wit Me')\n",
      "Row(sessionid=409, iteminsession=8, artist='Benny Benassi', length=207.49016, song=\"Who's Your Daddy? \")\n",
      "Row(sessionid=409, iteminsession=9, artist='Metallica', length=319.73832, song='Mama Said')\n",
      "Row(sessionid=409, iteminsession=10, artist='Easy Star All-Stars', length=244.81914, song='Lovely Rita (feat. Bunny Rugs and U Roy)')\n",
      "Row(sessionid=409, iteminsession=11, artist='O Terco', length=431.20281, song='Mudanca De Tempo')\n",
      "Row(sessionid=409, iteminsession=12, artist='Augustana', length=196.70159, song='Mayfield')\n",
      "Row(sessionid=409, iteminsession=13, artist='Gaz Nevada', length=390.21669, song='I C Love Affair')\n",
      "Row(sessionid=409, iteminsession=14, artist='isis', length=406.12526, song='Carry')\n",
      "Row(sessionid=288, iteminsession=0, artist='Motionless in White', length=217.57342, song='Ghost In The Mirror')\n",
      "Row(sessionid=336, iteminsession=0, artist='Carlos Y JosÃ\\x83Â©', length=166.45179, song='Soy AlbaÃ\\x83Â±il')\n",
      "Row(sessionid=408, iteminsession=0, artist='Van Halen', length=289.38404, song='Best Of Both Worlds (Remastered Album Version)')\n",
      "Row(sessionid=408, iteminsession=1, artist='Peter Sellers', length=142.39302, song='She Loves You')\n",
      "Row(sessionid=271, iteminsession=0, artist='Kreator', length=287.9473, song='Second awakening')\n",
      "Row(sessionid=427, iteminsession=1, artist='4 Skins', length=165.51138, song='Clockwork Skinhead')\n",
      "Row(sessionid=427, iteminsession=2, artist='Hi-Tek', length=153.67791, song=\"God's Plan\")\n",
      "Row(sessionid=427, iteminsession=3, artist='Deborah Harry', length=257.41016, song='Kiss It Better')\n",
      "Row(sessionid=100, iteminsession=0, artist='Survivor', length=245.36771, song='Eye Of The Tiger')\n",
      "Row(sessionid=297, iteminsession=0, artist='Eminem', length=304.87465, song='Music Box')\n",
      "Row(sessionid=297, iteminsession=1, artist='Cut Copy', length=71.49669, song='Visions')\n",
      "Row(sessionid=297, iteminsession=2, artist='Missy Higgins', length=274.80771, song='Drop The Mirror (EP Version)')\n",
      "Row(sessionid=297, iteminsession=3, artist='Beatriz Luengo', length=242.05016, song='Pretendo Hablarte')\n",
      "Row(sessionid=297, iteminsession=4, artist='Evanescence', length=237.11302, song='Bring Me To Life')\n",
      "Row(sessionid=297, iteminsession=5, artist='OceanLab', length=440.842, song='Clear Blue Water')\n",
      "Row(sessionid=297, iteminsession=6, artist='Eva Cassidy', length=248.86812, song='Take Me To The River')\n",
      "Row(sessionid=297, iteminsession=7, artist='Mr. Oizo', length=325.22404, song='Flat Beat')\n",
      "Row(sessionid=297, iteminsession=8, artist='Mariah Carey', length=261.642, song='Never Too Far')\n",
      "Row(sessionid=297, iteminsession=9, artist='Kid Cudi Vs Crookers', length=162.97751, song=\"Day 'N' Nite\")\n",
      "Row(sessionid=297, iteminsession=10, artist='Pat Martino', length=355.94404, song='El Hombre')\n",
      "Row(sessionid=297, iteminsession=11, artist='Jason Mraz', length=218.40934, song='Geek In The Pink [Phil Tan Remix]')\n",
      "Row(sessionid=297, iteminsession=12, artist='Dwight Yoakam', length=239.3073, song=\"You're The One\")\n",
      "Row(sessionid=297, iteminsession=13, artist='Smokey Robinson & The Miracles', length=168.9073, song='I Second That Emotion')\n",
      "Row(sessionid=341, iteminsession=0, artist='Linkin Park', length=164.41424, song='Bleed It Out (Album Version)')\n",
      "Row(sessionid=392, iteminsession=0, artist='Art Pepper', length=311.90159, song='Star Eyes')\n",
      "Row(sessionid=392, iteminsession=1, artist='Sidewalk Prophets', length=260.62322, song='You Love Me Anyway (Album)')\n",
      "Row(sessionid=392, iteminsession=5, artist='Nach', length=182.41261, song='El Juego Del Rap')\n",
      "Row(sessionid=392, iteminsession=6, artist='Vasco Rossi', length=233.53424, song='Colpa Del Whisky (Andrea Paci Radio Edit)')\n",
      "Row(sessionid=392, iteminsession=7, artist='Martin Orford', length=597.55057, song='Grand Designs')\n",
      "Row(sessionid=392, iteminsession=8, artist='Gillian Welch', length=237.26975, song='Pass You By')\n",
      "Row(sessionid=392, iteminsession=9, artist='1200 Mics', length=483.39546, song='DNA')\n",
      "Row(sessionid=392, iteminsession=10, artist='Franz Ferdinand', length=204.14649, song='Call Me')\n",
      "Row(sessionid=392, iteminsession=11, artist='Recycler', length=323.52608, song='Kromozom Bankal (Linathaleyco Mix)')\n",
      "Row(sessionid=392, iteminsession=12, artist='Bell Orchestre', length=137.82159, song='Stripes')\n",
      "Row(sessionid=392, iteminsession=13, artist='Sunny Day Real Estate', length=253.43955, song='Every Shining Time You Arrive (Album)')\n",
      "Row(sessionid=392, iteminsession=14, artist='Westside Connection', length=223.60771, song='Call 9-1-1 (Explicit)')\n",
      "Row(sessionid=392, iteminsession=15, artist='Kitty Wells & Roy Drusky', length=140.64281, song=\"Remember Me_ I'm The One Who Loves You\")\n",
      "Row(sessionid=392, iteminsession=16, artist='Big Shug', length=140.56444, song=\"It Just Don't Stop\")\n",
      "Row(sessionid=392, iteminsession=17, artist='Miguel Calo', length=171.17995, song='El Cuatrero')\n",
      "Row(sessionid=392, iteminsession=18, artist='Jimi Hendrix', length=241.24036, song='All Along The Watchtower')\n",
      "Row(sessionid=392, iteminsession=19, artist='Mangataot', length=356.62322, song='Kalidafun Parts 1&2')\n",
      "Row(sessionid=392, iteminsession=20, artist='Scott Walker', length=199.6273, song='Rosemary')\n",
      "Row(sessionid=392, iteminsession=21, artist='Styx', length=247.64036, song='Blue Collar Man (Long Nights)')\n",
      "Row(sessionid=392, iteminsession=22, artist='Aventura', length=240.43057, song='Su veneno')\n",
      "Row(sessionid=392, iteminsession=23, artist='Katy Perry', length=233.53424, song='Hot N Cold (Manhattan Clique Remix Radio Edit)')\n",
      "Row(sessionid=392, iteminsession=24, artist='Black Eyed Peas', length=210.15465, song='Bebot')\n",
      "Row(sessionid=392, iteminsession=26, artist='Boys Noize', length=256.60036, song='Lava Lava')\n",
      "Row(sessionid=392, iteminsession=27, artist='James Blake', length=248.78975, song='Air & Lack Thereof')\n",
      "Row(sessionid=392, iteminsession=28, artist='Emil Gilels/Orchestre de la SociÃ\\x83Â©tÃ\\x83Â© des Concerts du Conservatoire/AndrÃ\\x83Â© Cluytens', length=375.19628, song='Piano Concerto No. 2 in G minor Op. 22 (2006 Digital Remaster): III.  Presto')\n",
      "Row(sessionid=392, iteminsession=29, artist='Phil Collins', length=204.19873, song='Two Hearts')\n",
      "Row(sessionid=392, iteminsession=30, artist='The Strokes', length=218.56608, song='Reptilia')\n",
      "Row(sessionid=392, iteminsession=31, artist='Kate Ryan', length=239.96036, song='Scream For More')\n",
      "Row(sessionid=392, iteminsession=32, artist='Octopus Project', length=250.95791, song='All Of The Champs That Ever Lived')\n",
      "Row(sessionid=392, iteminsession=33, artist='Escape The Fate', length=217.28608, song='Something')\n",
      "Row(sessionid=392, iteminsession=34, artist='Charttraxx Karaoke', length=225.17506, song='Fireflies')\n",
      "Row(sessionid=392, iteminsession=35, artist='Placebo', length=241.52771, song='English Summer Rain')\n",
      "Row(sessionid=392, iteminsession=36, artist='Frightened Rabbit', length=146.46812, song='Man/Bag Of Sand')\n",
      "Row(sessionid=392, iteminsession=37, artist='Darius Rucker', length=181.81179, song=\"Don't Think I Don't Think About It\")\n",
      "Row(sessionid=392, iteminsession=38, artist='Foo Fighters', length=249.99138, song='Everlong')\n",
      "Row(sessionid=392, iteminsession=41, artist='The Meters', length=167.00036, song='Jambalaya (On The Bayou)')\n",
      "Row(sessionid=392, iteminsession=42, artist='Rihanna', length=208.40444, song='Te Amo')\n",
      "Row(sessionid=392, iteminsession=43, artist='Bayside', length=156.29016, song='Kellum (Album Version)')\n",
      "Row(sessionid=392, iteminsession=44, artist='Mariah', length=432.19546, song='My All')\n",
      "Row(sessionid=392, iteminsession=45, artist='Soft', length=195.7873, song='Dumb Blood')\n",
      "Row(sessionid=392, iteminsession=46, artist='The Format', length=241.10975, song='Time Bomb')\n",
      "Row(sessionid=392, iteminsession=47, artist='Michael Jackson', length=390.5824, song='In The Closet')\n",
      "Row(sessionid=392, iteminsession=48, artist='JLS', length=172.53832, song=\"Don't Go\")\n",
      "Row(sessionid=392, iteminsession=49, artist='Young Money featuring Lloyd', length=196.33587, song='BedRock (Radio Edit) (feat.Lloyd)')\n",
      "Row(sessionid=392, iteminsession=50, artist='Peter Tosh', length=320.02567, song='Rock With Me')\n",
      "Row(sessionid=392, iteminsession=51, artist='Nick Duffy', length=235.49342, song='Motor Panir')\n",
      "Row(sessionid=392, iteminsession=52, artist='Alanis Morissette', length=175.82975, song='Right Through You (LP Version)')\n",
      "Row(sessionid=392, iteminsession=54, artist='Muse', length=209.50159, song='Supermassive Black Hole (Twilight Soundtrack Version)')\n",
      "Row(sessionid=392, iteminsession=55, artist='Bon Iver', length=242.93832, song='Brackett_ WI')\n",
      "Row(sessionid=392, iteminsession=56, artist='Leftover Crack', length=195.082, song='Burn Them Prisons')\n",
      "Row(sessionid=392, iteminsession=57, artist='For Squirrels', length=337.162, song='Mighty K.C.')\n",
      "Row(sessionid=392, iteminsession=58, artist='Fobia', length=290.40281, song='Tu Me Asustas')\n",
      "Row(sessionid=392, iteminsession=59, artist='Indian Jewelry', length=295.83628, song='Barbwire')\n",
      "Row(sessionid=392, iteminsession=60, artist='M.O.P.', length=232.6722, song='Ante Up (Robbin Hoodz Theory)')\n",
      "Row(sessionid=392, iteminsession=61, artist='Eminem / Dr. Dre / 50 Cent', length=297.482, song='Crack A Bottle')\n",
      "Row(sessionid=392, iteminsession=62, artist=\"Usher Featuring Lil' Jon & Ludacris\", length=250.38322, song='Yeah!')\n",
      "Row(sessionid=392, iteminsession=63, artist='Rodrigo y Gabriela', length=223.16363, song='Hanuman')\n",
      "Row(sessionid=392, iteminsession=64, artist='Ramones', length=149.4722, song='I Wanna Be Sedated (Remastered Album Version )')\n",
      "Row(sessionid=392, iteminsession=65, artist='Mayday Parade', length=316.9171, song='Miserable At Best (Album)')\n",
      "Row(sessionid=227, iteminsession=0, artist='Hot Chip', length=230.29506, song='My Brother Is Watching Me')\n",
      "Row(sessionid=227, iteminsession=1, artist='Astral Projection', length=585.42975, song='Flying Into a Star')\n",
      "Row(sessionid=9, iteminsession=0, artist='Black Eyed Peas', length=214.93506, song='Pump It')\n",
      "Row(sessionid=405, iteminsession=1, artist='White Denim', length=148.55791, song='Transparency')\n",
      "Row(sessionid=405, iteminsession=2, artist='Ron Carter', length=497.13587, song=\"I CAN'T GET STARTED\")\n",
      "Row(sessionid=405, iteminsession=3, artist='She & Him', length=185.15546, song='Change Is Hard')\n",
      "Row(sessionid=405, iteminsession=4, artist='Ladytron', length=325.14567, song='Sugar (Jagz Kooner Mix)')\n",
      "Row(sessionid=108, iteminsession=0, artist='Bouncing Souls', length=66.01098, song='East Side Mags')\n",
      "Row(sessionid=108, iteminsession=1, artist='Coldplay', length=311.27465, song='The Scientist')\n",
      "Row(sessionid=418, iteminsession=0, artist='Xandria', length=216.81587, song='Calyx Virago')\n",
      "Row(sessionid=418, iteminsession=1, artist='Mobb Deep', length=181.15873, song='Shook Ones pt. 2')\n",
      "Row(sessionid=406, iteminsession=0, artist='Phil Collins', length=239.85587, song='The Way You Look Tonight (Live Version)')\n",
      "Row(sessionid=142, iteminsession=0, artist='Brian Poole & The Tremeloes', length=115.66975, song='I Can Dance')\n",
      "Row(sessionid=142, iteminsession=1, artist='War', length=244.03546, song='The World Is A Ghetto')\n",
      "Row(sessionid=276, iteminsession=3, artist='Lonnie Gordon', length=181.21098, song='Catch You Baby (Steve Pitron & Max Sanna Radio Edit)')\n",
      "Row(sessionid=276, iteminsession=4, artist='Harry Connick_ Jr.', length=197.09342, song='My Blue Heaven')\n",
      "Row(sessionid=276, iteminsession=5, artist='Andres Calamaro', length=122.33098, song='Crucificame')\n",
      "Row(sessionid=276, iteminsession=6, artist='Tub Ring', length=233.69098, song='Invalid')\n",
      "Row(sessionid=17, iteminsession=0, artist='Markus KrunegÃ\\x83Â¥rd', length=185.5473, song='Genom tunna tyger')\n",
      "Row(sessionid=17, iteminsession=1, artist='Michael B.', length=197.3024, song='Geh Deinen Weg')\n",
      "Row(sessionid=166, iteminsession=0, artist='AFI', length=176.48281, song='Miseria Cantare--The Beginning')\n",
      "Row(sessionid=362, iteminsession=0, artist='Gang Starr', length=194.2722, song='Soliloquy Of Chaos (Explicit)')\n",
      "Row(sessionid=362, iteminsession=2, artist='Paramore', length=215.09179, song='When It Rains (Album Version)')\n",
      "Row(sessionid=362, iteminsession=3, artist='A-Ha', length=246.25587, song='Forever Not Yours (Album Version  - NY Mix II)')\n",
      "Row(sessionid=362, iteminsession=4, artist='Alter Bridge', length=286.35383, song='Down To My Last')\n",
      "Row(sessionid=362, iteminsession=5, artist='Nightwish', length=330.97098, song='Walking In The Air')\n",
      "Row(sessionid=362, iteminsession=6, artist='Anita Ward', length=491.93751, song='Ring My Bell')\n",
      "Row(sessionid=362, iteminsession=7, artist=\"Flamin' Groovies\", length=299.65016, song='Slow Death')\n",
      "Row(sessionid=362, iteminsession=11, artist='Five Iron Frenzy', length=236.09424, song='Canada')\n",
      "Row(sessionid=362, iteminsession=12, artist='Frankie HI-NRG MC', length=104.09751, song='Pace E Guerra')\n",
      "Row(sessionid=431, iteminsession=1, artist='Red Hot Chili Peppers', length=107.31057, song='Pea (Album Version)')\n",
      "Row(sessionid=431, iteminsession=2, artist='Sunny Day Real Estate', length=198.97424, song='Red Elephant')\n",
      "Row(sessionid=431, iteminsession=3, artist='Sam Cooke', length=122.04363, song=\"Ain't Misbehavin\")\n",
      "Row(sessionid=325, iteminsession=0, artist='Dwight Yoakam', length=239.3073, song=\"You're The One\")\n",
      "Row(sessionid=325, iteminsession=1, artist='The Devil Wears Prada', length=205.66159, song='Lord Xenu')\n",
      "Row(sessionid=66, iteminsession=0, artist='Taylor Swift', length=233.89995, song='Love Story')\n",
      "Row(sessionid=395, iteminsession=0, artist='Feist', length=184.94649, song='My Moon My Man')\n",
      "Row(sessionid=425, iteminsession=1, artist='Linkin Park', length=494.99383, song='Bleed It Out [Live At Milton Keynes]')\n",
      "Row(sessionid=275, iteminsession=1, artist='Muse', length=209.50159, song='Supermassive Black Hole (Twilight Soundtrack Version)')\n",
      "Row(sessionid=275, iteminsession=2, artist='Beastie Boys', length=161.56689, song='Lighten Up')\n",
      "Row(sessionid=275, iteminsession=3, artist='Shakira', length=145.84118, song='Pienso En Ti')\n",
      "Row(sessionid=275, iteminsession=4, artist='Selena', length=172.66893, song='Amor Prohibido')\n",
      "Row(sessionid=275, iteminsession=5, artist='Kid Cudi Vs Crookers', length=162.97751, song=\"Day 'N' Nite\")\n",
      "Row(sessionid=275, iteminsession=6, artist='Rise Against', length=179.59138, song='Black Masks & Gasoline')\n",
      "Row(sessionid=275, iteminsession=7, artist='Fall Out Boy', length=211.69587, song=\"I'm Like A Lawyer With The Way I'm Always Trying To Get You Off (Me & You)\")\n",
      "Row(sessionid=275, iteminsession=8, artist='Jack Johnson', length=196.12689, song='Staple It Together')\n",
      "Row(sessionid=275, iteminsession=9, artist='Twista feat. Kayne West & Jamie Foxx', length=212.55791, song='Slow Jamz (Feat. Kanye West & Jamie Foxx) (Edited Album Version)')\n",
      "Row(sessionid=275, iteminsession=10, artist='Train', length=216.76363, song='Hey_ Soul Sister')\n",
      "Row(sessionid=275, iteminsession=11, artist='Rihanna', length=293.82485, song='Rehab')\n",
      "Row(sessionid=275, iteminsession=12, artist='Man Man', length=222.45832, song='Van Helsing Boombox')\n",
      "Row(sessionid=275, iteminsession=13, artist='Ween', length=276.13995, song='The Stallion')\n",
      "Row(sessionid=275, iteminsession=14, artist='Charttraxx Karaoke', length=225.17506, song='Fireflies')\n",
      "Row(sessionid=275, iteminsession=15, artist='Digitalism', length=208.24771, song='I Want I Want')\n",
      "Row(sessionid=275, iteminsession=16, artist='Dispatch', length=247.50975, song='Railway')\n",
      "Row(sessionid=275, iteminsession=17, artist='Postal Service', length=294.47791, song='Clark Gable (Album)')\n",
      "Row(sessionid=275, iteminsession=18, artist='Patricia Barber', length=317.83138, song='Phaeton')\n",
      "Row(sessionid=275, iteminsession=19, artist='Enur', length=203.4673, song='Ucci Ucci feat. Nicki Minaj & The Chopper City Boyz')\n",
      "Row(sessionid=275, iteminsession=20, artist='Hybrid', length=379.61098, song='Choke')\n",
      "Row(sessionid=275, iteminsession=21, artist='Riverside', length=236.2771, song='Stuck Between')\n",
      "Row(sessionid=275, iteminsession=22, artist='Enigma', length=272.48281, song='Smell Of Desire.')\n",
      "Row(sessionid=275, iteminsession=23, artist='Arcade Fire', length=267.80689, song='Headlights Look Like Diamonds')\n",
      "Row(sessionid=275, iteminsession=25, artist='Spoon', length=274.36363, song='Out Go The Lights')\n",
      "Row(sessionid=275, iteminsession=26, artist='The Wannadies', length=170.86649, song='You & Me Song')\n",
      "Row(sessionid=275, iteminsession=27, artist='Tricky', length=261.43302, song='Girls (Album version)')\n",
      "Row(sessionid=275, iteminsession=28, artist='Tony Rice', length=321.98485, song='Wayfaring Stranger')\n",
      "Row(sessionid=275, iteminsession=29, artist='Rasheeda', length=212.40118, song='Sweep The Flo (Featuring Diamond)')\n",
      "Row(sessionid=275, iteminsession=30, artist='George Younce', length=191.68608, song='This Old House w/ When The Saints Medley')\n",
      "Row(sessionid=275, iteminsession=31, artist='Alex Gopher', length=221.6224, song='Brain Leech')\n",
      "Row(sessionid=275, iteminsession=32, artist='Aphex Twin', length=430.18404, song='Didgeridoo')\n",
      "Row(sessionid=275, iteminsession=33, artist='Emmanuel Moire', length=277.08036, song='LÃ\\x83Â\\xa0 OÃ\\x83Â¹ Je Pars')\n",
      "Row(sessionid=275, iteminsession=34, artist='Josh Turner', length=212.16608, song=\"I Wouldn't Be A Man\")\n"
     ]
    }
   ],
   "source": [
    "# To verify that all the rows were inserted we will run two queries:\n",
    "\n",
    "# 1 - row count: \"SELECT COUNT(*) FROM table1\"\n",
    "rows = session.execute(\"SELECT COUNT(*) FROM table1\")\n",
    "for r in rows:\n",
    "    print(r)\n",
    "\n",
    "# 2 - check all the data: \"SELECT * FROM table1\"\n",
    "rows = session.execute(\"SELECT * FROM table1\")\n",
    "for r in rows:\n",
    "    print(r)"
   ]
  },
  {
   "cell_type": "code",
   "execution_count": 70,
   "metadata": {
    "editable": true
   },
   "outputs": [
    {
     "name": "stdout",
     "output_type": "stream",
     "text": [
      "Table table1 was dropped\n",
      "Table table1 was created\n"
     ]
    }
   ],
   "source": [
    "## TO-DO: Query 1:  Give me the artist, song title and song's length in the music app history that was heard during \\\n",
    "## sessionId = 338, and itemInSession = 4\n",
    "\n",
    "table = \"table1\"\n",
    "fields1_create = \"(artist text, \\\n",
    "            itemInSession int, \\\n",
    "            length double, \\\n",
    "            sessionId int, \\\n",
    "            song text, \\\n",
    "            PRIMARY KEY (sessionId, itemInSession))\"\n",
    "\n",
    "create_table(table_name = table, fields = fields1_create, session = session)"
   ]
  },
  {
   "cell_type": "code",
   "execution_count": 72,
   "metadata": {
    "editable": true
   },
   "outputs": [],
   "source": [
    "# We have provided part of the code to set up the CSV file. Please complete the Apache Cassandra code below#\n",
    "file = 'event_datafile_new.csv'\n",
    "fields1 = ['artist','itemInSession','length','sessionId','song']\n",
    "\n",
    "with open(file, encoding = 'utf8') as f:\n",
    "    csvreader = csv.reader(f)\n",
    "    next(csvreader) # to skip header\n",
    "    \n",
    "    for line in csvreader:\n",
    "        query = insert_query(fields1, table)\n",
    "        # Since we are reading from CSV files we need to transform the type of the fields to\n",
    "        # match the schema of the table. There is the option to implement this automatically\n",
    "        # with the QUOTE_NONNUMERIC option [1] but this way we have more control over the data\n",
    "        #\n",
    "        # [1] https://stackoverflow.com/questions/55290883/invalid-string-constant-error-in-apache-cassandra-using-python\n",
    "        values = [line[0], int(line[3]), float(line[5]), int(line[8]), line[9]]\n",
    "        \n",
    "        session.execute(query, values)"
   ]
  },
  {
   "cell_type": "markdown",
   "metadata": {
    "editable": true
   },
   "source": [
    "#### Do a SELECT to verify that the data have been inserted into each table"
   ]
  },
  {
   "cell_type": "code",
   "execution_count": 77,
   "metadata": {
    "editable": true,
    "scrolled": true
   },
   "outputs": [
    {
     "name": "stdout",
     "output_type": "stream",
     "text": [
      "Row(sessionid=297, iteminsession=4, artist='Evanescence', length=237.11302, song='Bring Me To Life')\n"
     ]
    }
   ],
   "source": [
    "# We now run the query1 to verify that the table is modeled according to the desired output\n",
    "# The original request for this project was sessionId = 228 but there is no such entry so instead I used sessionid=297\n",
    "query1 = \"SELECT * FROM {} WHERE sessionId = 297 and itemInSession = 4\".format(table)\n",
    "\n",
    "rows = session.execute(query1)\n",
    "for r in rows:\n",
    "    print(r)\n"
   ]
  },
  {
   "cell_type": "markdown",
   "metadata": {
    "editable": true
   },
   "source": [
    "### COPY AND REPEAT THE ABOVE THREE CELLS FOR EACH OF THE THREE QUESTIONS"
   ]
  },
  {
   "cell_type": "code",
   "execution_count": null,
   "metadata": {
    "editable": true
   },
   "outputs": [],
   "source": [
    "## TO-DO: Query 2: Give me only the following: name of artist, song (sorted by itemInSession) and user (first and last name)\\\n",
    "## for userid = 10, sessionid = 182\n",
    "\n",
    "\n",
    "                    "
   ]
  },
  {
   "cell_type": "code",
   "execution_count": null,
   "metadata": {
    "editable": true
   },
   "outputs": [],
   "source": [
    "## TO-DO: Query 3: Give me every user name (first and last) in my music app history who listened to the song 'All Hands Against His Own'\n",
    "\n",
    "\n",
    "                    "
   ]
  },
  {
   "cell_type": "code",
   "execution_count": null,
   "metadata": {
    "editable": true
   },
   "outputs": [],
   "source": []
  },
  {
   "cell_type": "code",
   "execution_count": null,
   "metadata": {
    "editable": true
   },
   "outputs": [],
   "source": []
  },
  {
   "cell_type": "markdown",
   "metadata": {
    "editable": true
   },
   "source": [
    "### Drop the tables before closing out the sessions"
   ]
  },
  {
   "cell_type": "code",
   "execution_count": 4,
   "metadata": {
    "editable": true
   },
   "outputs": [],
   "source": [
    "## TO-DO: Drop the table before closing out the sessions"
   ]
  },
  {
   "cell_type": "code",
   "execution_count": null,
   "metadata": {
    "editable": true
   },
   "outputs": [],
   "source": []
  },
  {
   "cell_type": "markdown",
   "metadata": {
    "editable": true
   },
   "source": [
    "### Close the session and cluster connection¶"
   ]
  },
  {
   "cell_type": "code",
   "execution_count": null,
   "metadata": {
    "editable": true
   },
   "outputs": [],
   "source": [
    "session.shutdown()\n",
    "cluster.shutdown()"
   ]
  },
  {
   "cell_type": "code",
   "execution_count": null,
   "metadata": {
    "editable": true
   },
   "outputs": [],
   "source": []
  },
  {
   "cell_type": "code",
   "execution_count": null,
   "metadata": {
    "editable": true
   },
   "outputs": [],
   "source": []
  }
 ],
 "metadata": {
  "kernelspec": {
   "display_name": "Python 3",
   "language": "python",
   "name": "python3"
  },
  "language_info": {
   "codemirror_mode": {
    "name": "ipython",
    "version": 3
   },
   "file_extension": ".py",
   "mimetype": "text/x-python",
   "name": "python",
   "nbconvert_exporter": "python",
   "pygments_lexer": "ipython3",
   "version": "3.6.3"
  }
 },
 "nbformat": 4,
 "nbformat_minor": 4
}
